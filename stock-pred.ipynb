{
 "cells": [
  {
   "cell_type": "code",
   "execution_count": 39,
   "id": "0705dad4-41f6-4674-abe3-e13a36656e4a",
   "metadata": {},
   "outputs": [],
   "source": [
    "import pandas as pd\n",
    "from datetime import time\n",
    "import numpy as np, datetime as dt\n",
    "import random\n",
    "import re\n",
    "import warnings\n",
    "import matplotlib.pyplot as plt\n",
    "import seaborn as sns\n",
    "import tensorflow as tf\n",
    "from sklearn.preprocessing import MinMaxScaler\n",
    "from keras.models import Sequential\n",
    "from keras.layers import LSTM, Dense\n",
    "from keras.callbacks import EarlyStopping\n",
    "np.random.seed(42) \n",
    "random.seed(42) \n",
    "tf.random.set_seed(42)\n",
    "from sklearn.preprocessing import StandardScaler\n",
    "from sklearn.metrics import mean_absolute_error, mean_squared_error, r2_score\n",
    "%matplotlib inline\n"
   ]
  },
  {
   "cell_type": "code",
   "execution_count": 8,
   "id": "13167370-b882-4e6d-8a95-6881f0a6e9e4",
   "metadata": {},
   "outputs": [],
   "source": [
    "df = pd.read_excel('y1 y2 included.xlsx')"
   ]
  },
  {
   "cell_type": "code",
   "execution_count": 9,
   "id": "a2cb9eb6-5c21-45d7-8a09-8ab465f93227",
   "metadata": {},
   "outputs": [
    {
     "name": "stdout",
     "output_type": "stream",
     "text": [
      "Unique date formats found:\n",
      "Date\n",
      "DD-DD-DDDD             3537\n",
      "DDDD-DD-DD DD:DD:DD    2716\n",
      "Name: count, dtype: int64\n"
     ]
    }
   ],
   "source": [
    "# Ensure columns are strings\n",
    "df['Date'] = df['Date'].astype(str)\n",
    "df['Time'] = df['Time'].astype(str)\n",
    "# Find unique date patterns\n",
    "date_patterns = df['Date'].apply(lambda x: re.sub(r'\\d', 'D', x))  # replace digits with D\n",
    "print(\"Unique date formats found:\")\n",
    "print(date_patterns.value_counts())\n"
   ]
  },
  {
   "cell_type": "code",
   "execution_count": 10,
   "id": "968e7de0-0028-4b77-a77a-d2c132b5cb22",
   "metadata": {},
   "outputs": [
    {
     "data": {
      "text/plain": [
       "(6253, 12)"
      ]
     },
     "execution_count": 10,
     "metadata": {},
     "output_type": "execute_result"
    }
   ],
   "source": [
    "date_raw = df['Date'].astype(str)          # make sure it’s strings\n",
    "df.shape\n"
   ]
  },
  {
   "cell_type": "code",
   "execution_count": 11,
   "id": "05028455-1209-429d-92aa-3cbc306e416a",
   "metadata": {},
   "outputs": [],
   "source": [
    "date_clean = date_raw.str.split().str[0].str.strip()\n"
   ]
  },
  {
   "cell_type": "code",
   "execution_count": 12,
   "id": "99c05420-7135-46f1-85c9-da1c4304073d",
   "metadata": {},
   "outputs": [],
   "source": [
    "date_parsed = pd.to_datetime(\n",
    "    date_clean,\n",
    "    errors='coerce',\n",
    "    dayfirst=False          # month‑first\n",
    ")\n",
    "\n",
    "mask = date_parsed.isna()\n",
    "date_parsed.loc[mask] = pd.to_datetime(\n",
    "    date_clean.loc[mask],\n",
    "    errors='coerce',\n",
    "    dayfirst=True           # day‑first\n",
    ")"
   ]
  },
  {
   "cell_type": "code",
   "execution_count": 13,
   "id": "0921e79b-f49b-4a47-8b41-e79a33e7d418",
   "metadata": {},
   "outputs": [],
   "source": [
    "df['Date'] = date_parsed.dt.strftime('%m-%d-%Y')\n",
    "df.loc[df['Date'].isna(), 'Date'] = date_raw[df['Date'].isna()]"
   ]
  },
  {
   "cell_type": "code",
   "execution_count": 14,
   "id": "c2f766c9-a596-486c-8ac0-3f643f8c36d5",
   "metadata": {},
   "outputs": [
    {
     "name": "stdout",
     "output_type": "stream",
     "text": [
      "Unique date strings after normalisation: 90\n",
      "Rows still not in MM-DD-YYYY: Date\n",
      "True    6253\n",
      "Name: count, dtype: int64\n"
     ]
    }
   ],
   "source": [
    "# ------------------------------------------------------------\n",
    "# 5.  Quick diagnostics (optional)\n",
    "# ------------------------------------------------------------\n",
    "print(\"Unique date strings after normalisation:\", df['Date'].nunique())\n",
    "print(\"Rows still not in MM-DD-YYYY:\", df['Date'].str.contains(r'^\\d{2}-\\d{2}-\\d{4}$').value_counts(dropna=False))\n",
    "\n",
    "# Now df['Date'] is consistently MM‑DD‑YYYY everywhere we could parse,\n",
    "#   and every row of the original file is still present."
   ]
  },
  {
   "cell_type": "code",
   "execution_count": 15,
   "id": "a3336753-245e-42e9-a5d9-482464d3f105",
   "metadata": {},
   "outputs": [],
   "source": [
    "datetime_str = df['Date'] + ' ' + df['Time']\n",
    "df['Datetime'] = pd.to_datetime(datetime_str, \n",
    "                                format='%m-%d-%Y %H:%M:%S', \n",
    "                                errors='coerce')"
   ]
  },
  {
   "cell_type": "code",
   "execution_count": 16,
   "id": "58b31096-8f23-48ac-b068-ab2fe71d9ff8",
   "metadata": {},
   "outputs": [],
   "source": [
    "df = df.dropna(subset=['Datetime'])\n"
   ]
  },
  {
   "cell_type": "code",
   "execution_count": 17,
   "id": "8397a986-1493-4f70-9bc8-c5c985f12522",
   "metadata": {},
   "outputs": [],
   "source": [
    "# [108]  <-- NEW lines, only once!\n",
    "df.set_index('Datetime', inplace=True)   # move to index\n",
    "df.sort_index(inplace=True)              # keep chrono order"
   ]
  },
  {
   "cell_type": "code",
   "execution_count": 18,
   "id": "90aae928-7b1b-42dd-998f-9e58b7b734fc",
   "metadata": {},
   "outputs": [],
   "source": [
    "# # Set index and sort\n",
    "# df.set_index('Datetime', inplace=True)\n",
    "# df.sort_index(inplace=True)"
   ]
  },
  {
   "cell_type": "code",
   "execution_count": 19,
   "id": "853e8d8a-c77a-4e85-af3e-934345d0a371",
   "metadata": {},
   "outputs": [
    {
     "name": "stdout",
     "output_type": "stream",
     "text": [
      "Datetime index range: 2024-11-27 09:20:00 → 2025-04-17 15:00:00\n",
      "Total rows: 6253\n"
     ]
    },
    {
     "data": {
      "text/html": [
       "<div>\n",
       "<style scoped>\n",
       "    .dataframe tbody tr th:only-of-type {\n",
       "        vertical-align: middle;\n",
       "    }\n",
       "\n",
       "    .dataframe tbody tr th {\n",
       "        vertical-align: top;\n",
       "    }\n",
       "\n",
       "    .dataframe thead th {\n",
       "        text-align: right;\n",
       "    }\n",
       "</style>\n",
       "<table border=\"1\" class=\"dataframe\">\n",
       "  <thead>\n",
       "    <tr style=\"text-align: right;\">\n",
       "      <th></th>\n",
       "      <th>Y2</th>\n",
       "      <th>Y1</th>\n",
       "      <th>Expiry_date</th>\n",
       "      <th>Date</th>\n",
       "      <th>Time</th>\n",
       "      <th>PRICE</th>\n",
       "      <th>A1</th>\n",
       "      <th>B1</th>\n",
       "      <th>C1</th>\n",
       "      <th>A2</th>\n",
       "      <th>B2</th>\n",
       "      <th>C2</th>\n",
       "    </tr>\n",
       "    <tr>\n",
       "      <th>Datetime</th>\n",
       "      <th></th>\n",
       "      <th></th>\n",
       "      <th></th>\n",
       "      <th></th>\n",
       "      <th></th>\n",
       "      <th></th>\n",
       "      <th></th>\n",
       "      <th></th>\n",
       "      <th></th>\n",
       "      <th></th>\n",
       "      <th></th>\n",
       "      <th></th>\n",
       "    </tr>\n",
       "  </thead>\n",
       "  <tbody>\n",
       "    <tr>\n",
       "      <th>2024-11-27 09:20:00</th>\n",
       "      <td>-0.001238</td>\n",
       "      <td>52081.9</td>\n",
       "      <td>12-24-2024</td>\n",
       "      <td>11-27-2024</td>\n",
       "      <td>09:20:00</td>\n",
       "      <td>52211.0</td>\n",
       "      <td>34744360</td>\n",
       "      <td>4766039988</td>\n",
       "      <td>213911011</td>\n",
       "      <td>41970809</td>\n",
       "      <td>4758938286</td>\n",
       "      <td>178581026</td>\n",
       "    </tr>\n",
       "    <tr>\n",
       "      <th>2024-11-27 09:25:00</th>\n",
       "      <td>-0.001014</td>\n",
       "      <td>52095.6</td>\n",
       "      <td>12-24-2024</td>\n",
       "      <td>11-27-2024</td>\n",
       "      <td>09:25:00</td>\n",
       "      <td>52201.4</td>\n",
       "      <td>81532473</td>\n",
       "      <td>4761593661</td>\n",
       "      <td>451897478</td>\n",
       "      <td>112786815</td>\n",
       "      <td>4837473633</td>\n",
       "      <td>400600196</td>\n",
       "    </tr>\n",
       "    <tr>\n",
       "      <th>2024-11-27 09:30:00</th>\n",
       "      <td>0.000542</td>\n",
       "      <td>52170.5</td>\n",
       "      <td>12-24-2024</td>\n",
       "      <td>11-27-2024</td>\n",
       "      <td>09:30:00</td>\n",
       "      <td>52114.0</td>\n",
       "      <td>105929198</td>\n",
       "      <td>4597482857</td>\n",
       "      <td>625218328</td>\n",
       "      <td>140531649</td>\n",
       "      <td>5050308959</td>\n",
       "      <td>670062593</td>\n",
       "    </tr>\n",
       "    <tr>\n",
       "      <th>2024-11-27 09:35:00</th>\n",
       "      <td>-0.000082</td>\n",
       "      <td>52091.2</td>\n",
       "      <td>12-24-2024</td>\n",
       "      <td>11-27-2024</td>\n",
       "      <td>09:35:00</td>\n",
       "      <td>52099.7</td>\n",
       "      <td>153471380</td>\n",
       "      <td>4629186160</td>\n",
       "      <td>802793560</td>\n",
       "      <td>247105395</td>\n",
       "      <td>5156400483</td>\n",
       "      <td>1002319298</td>\n",
       "    </tr>\n",
       "    <tr>\n",
       "      <th>2024-11-27 09:40:00</th>\n",
       "      <td>0.000338</td>\n",
       "      <td>52102.8</td>\n",
       "      <td>12-24-2024</td>\n",
       "      <td>11-27-2024</td>\n",
       "      <td>09:40:00</td>\n",
       "      <td>52067.6</td>\n",
       "      <td>194830742</td>\n",
       "      <td>4579447694</td>\n",
       "      <td>1000390521</td>\n",
       "      <td>348913646</td>\n",
       "      <td>5298056525</td>\n",
       "      <td>1302659440</td>\n",
       "    </tr>\n",
       "    <tr>\n",
       "      <th>...</th>\n",
       "      <td>...</td>\n",
       "      <td>...</td>\n",
       "      <td>...</td>\n",
       "      <td>...</td>\n",
       "      <td>...</td>\n",
       "      <td>...</td>\n",
       "      <td>...</td>\n",
       "      <td>...</td>\n",
       "      <td>...</td>\n",
       "      <td>...</td>\n",
       "      <td>...</td>\n",
       "      <td>...</td>\n",
       "    </tr>\n",
       "    <tr>\n",
       "      <th>2025-04-17 14:40:00</th>\n",
       "      <td>-0.000371</td>\n",
       "      <td>54331.0</td>\n",
       "      <td>04-24-2025</td>\n",
       "      <td>04-17-2025</td>\n",
       "      <td>14:40:00</td>\n",
       "      <td>54371.3</td>\n",
       "      <td>645394661</td>\n",
       "      <td>29327432501</td>\n",
       "      <td>106394955222</td>\n",
       "      <td>1571667666</td>\n",
       "      <td>3002673954</td>\n",
       "      <td>20992814327</td>\n",
       "    </tr>\n",
       "    <tr>\n",
       "      <th>2025-04-17 14:45:00</th>\n",
       "      <td>-0.000785</td>\n",
       "      <td>54269.6</td>\n",
       "      <td>04-24-2025</td>\n",
       "      <td>04-17-2025</td>\n",
       "      <td>14:45:00</td>\n",
       "      <td>54354.9</td>\n",
       "      <td>671810033</td>\n",
       "      <td>29477592302</td>\n",
       "      <td>107725590288</td>\n",
       "      <td>1653616176</td>\n",
       "      <td>3137577393</td>\n",
       "      <td>21838852496</td>\n",
       "    </tr>\n",
       "    <tr>\n",
       "      <th>2025-04-17 14:50:00</th>\n",
       "      <td>-0.000922</td>\n",
       "      <td>54256.7</td>\n",
       "      <td>04-24-2025</td>\n",
       "      <td>04-17-2025</td>\n",
       "      <td>14:50:00</td>\n",
       "      <td>54356.8</td>\n",
       "      <td>662124351</td>\n",
       "      <td>29279438342</td>\n",
       "      <td>107609027669</td>\n",
       "      <td>1669271280</td>\n",
       "      <td>3146777489</td>\n",
       "      <td>22194881618</td>\n",
       "    </tr>\n",
       "    <tr>\n",
       "      <th>2025-04-17 14:55:00</th>\n",
       "      <td>-0.000074</td>\n",
       "      <td>54306.3</td>\n",
       "      <td>04-24-2025</td>\n",
       "      <td>04-17-2025</td>\n",
       "      <td>14:55:00</td>\n",
       "      <td>54314.3</td>\n",
       "      <td>626037957</td>\n",
       "      <td>28924161222</td>\n",
       "      <td>104948662121</td>\n",
       "      <td>1743893993</td>\n",
       "      <td>3268765272</td>\n",
       "      <td>23436009708</td>\n",
       "    </tr>\n",
       "    <tr>\n",
       "      <th>2025-04-17 15:00:00</th>\n",
       "      <td>-0.000074</td>\n",
       "      <td>54300.9</td>\n",
       "      <td>04-24-2025</td>\n",
       "      <td>04-17-2025</td>\n",
       "      <td>15:00:00</td>\n",
       "      <td>54316.5</td>\n",
       "      <td>640421846</td>\n",
       "      <td>28764869994</td>\n",
       "      <td>104894667146</td>\n",
       "      <td>1732669164</td>\n",
       "      <td>3251667416</td>\n",
       "      <td>23879737208</td>\n",
       "    </tr>\n",
       "  </tbody>\n",
       "</table>\n",
       "<p>6253 rows × 12 columns</p>\n",
       "</div>"
      ],
      "text/plain": [
       "                           Y2       Y1 Expiry_date        Date      Time  \\\n",
       "Datetime                                                                   \n",
       "2024-11-27 09:20:00 -0.001238  52081.9  12-24-2024  11-27-2024  09:20:00   \n",
       "2024-11-27 09:25:00 -0.001014  52095.6  12-24-2024  11-27-2024  09:25:00   \n",
       "2024-11-27 09:30:00  0.000542  52170.5  12-24-2024  11-27-2024  09:30:00   \n",
       "2024-11-27 09:35:00 -0.000082  52091.2  12-24-2024  11-27-2024  09:35:00   \n",
       "2024-11-27 09:40:00  0.000338  52102.8  12-24-2024  11-27-2024  09:40:00   \n",
       "...                       ...      ...         ...         ...       ...   \n",
       "2025-04-17 14:40:00 -0.000371  54331.0  04-24-2025  04-17-2025  14:40:00   \n",
       "2025-04-17 14:45:00 -0.000785  54269.6  04-24-2025  04-17-2025  14:45:00   \n",
       "2025-04-17 14:50:00 -0.000922  54256.7  04-24-2025  04-17-2025  14:50:00   \n",
       "2025-04-17 14:55:00 -0.000074  54306.3  04-24-2025  04-17-2025  14:55:00   \n",
       "2025-04-17 15:00:00 -0.000074  54300.9  04-24-2025  04-17-2025  15:00:00   \n",
       "\n",
       "                       PRICE         A1           B1            C1  \\\n",
       "Datetime                                                             \n",
       "2024-11-27 09:20:00  52211.0   34744360   4766039988     213911011   \n",
       "2024-11-27 09:25:00  52201.4   81532473   4761593661     451897478   \n",
       "2024-11-27 09:30:00  52114.0  105929198   4597482857     625218328   \n",
       "2024-11-27 09:35:00  52099.7  153471380   4629186160     802793560   \n",
       "2024-11-27 09:40:00  52067.6  194830742   4579447694    1000390521   \n",
       "...                      ...        ...          ...           ...   \n",
       "2025-04-17 14:40:00  54371.3  645394661  29327432501  106394955222   \n",
       "2025-04-17 14:45:00  54354.9  671810033  29477592302  107725590288   \n",
       "2025-04-17 14:50:00  54356.8  662124351  29279438342  107609027669   \n",
       "2025-04-17 14:55:00  54314.3  626037957  28924161222  104948662121   \n",
       "2025-04-17 15:00:00  54316.5  640421846  28764869994  104894667146   \n",
       "\n",
       "                             A2          B2           C2  \n",
       "Datetime                                                  \n",
       "2024-11-27 09:20:00    41970809  4758938286    178581026  \n",
       "2024-11-27 09:25:00   112786815  4837473633    400600196  \n",
       "2024-11-27 09:30:00   140531649  5050308959    670062593  \n",
       "2024-11-27 09:35:00   247105395  5156400483   1002319298  \n",
       "2024-11-27 09:40:00   348913646  5298056525   1302659440  \n",
       "...                         ...         ...          ...  \n",
       "2025-04-17 14:40:00  1571667666  3002673954  20992814327  \n",
       "2025-04-17 14:45:00  1653616176  3137577393  21838852496  \n",
       "2025-04-17 14:50:00  1669271280  3146777489  22194881618  \n",
       "2025-04-17 14:55:00  1743893993  3268765272  23436009708  \n",
       "2025-04-17 15:00:00  1732669164  3251667416  23879737208  \n",
       "\n",
       "[6253 rows x 12 columns]"
      ]
     },
     "execution_count": 19,
     "metadata": {},
     "output_type": "execute_result"
    }
   ],
   "source": [
    "# Final check\n",
    "print(\"Datetime index range:\", df.index.min(), \"→\", df.index.max())\n",
    "print(\"Total rows:\", len(df))\n",
    "df"
   ]
  },
  {
   "cell_type": "code",
   "execution_count": 20,
   "id": "f27c4902-3968-40f4-976e-cb397fd5d961",
   "metadata": {},
   "outputs": [
    {
     "name": "stdout",
     "output_type": "stream",
     "text": [
      "['Y2', 'Y1', 'Expiry_date', 'Date', 'Time', 'PRICE', 'A1', 'B1', 'C1', 'A2', 'B2', 'C2']\n"
     ]
    }
   ],
   "source": [
    "print(df.columns.tolist())\n"
   ]
  },
  {
   "cell_type": "code",
   "execution_count": 21,
   "id": "6fcf95a8-bcd6-442c-81d2-dc355c9081d1",
   "metadata": {},
   "outputs": [],
   "source": [
    "# --- Add Technical Features ---\n",
    "df['ret_1'] = df['PRICE'].pct_change().fillna(0)                     # 1-step return\n",
    "df['ret_5'] = df['PRICE'].pct_change(5).fillna(0)                    # 5-step return\n",
    "df['volatility'] = df['ret_1'].rolling(window=5).std().fillna(0)     # recent volatility\n",
    "df['Y2_lag1'] = df['Y2'].shift(1).fillna(0)                          # previous Y2"
   ]
  },
  {
   "cell_type": "code",
   "execution_count": 22,
   "id": "219ad90c-88b8-4a68-84c2-24832002897f",
   "metadata": {},
   "outputs": [],
   "source": [
    "# Expiry date to datetime + days‑to‑expiry feature\n",
    "df[\"Expiry_date\"] = pd.to_datetime(df[\"Expiry_date\"])\n",
    "df[\"days_to_expiry\"]  = (df[\"Expiry_date\"].dt.normalize() - df.index.normalize()).dt.days\n",
    "df[\"expiry_pressure\"] = 1 / (1 + df[\"days_to_expiry\"].clip(lower=0))   # 0 → far, 1 → expiry day\n",
    "df[\"price_norm\"] = df[\"PRICE\"] / df[\"PRICE\"].rolling(100).mean().bfill()\n"
   ]
  },
  {
   "cell_type": "code",
   "execution_count": 23,
   "id": "16454b4d-99b1-4c84-a29c-6f091736641c",
   "metadata": {},
   "outputs": [],
   "source": [
    "# --- STEP 2: Client Logic Features ---\n",
    "# 1. Client Score based on A-B-C patterns\n",
    "def client_score(row):\n",
    "    if row['A2'] > row['A1'] and row['B2'] > row['B1'] and row['C1'] > 0 and row['C2'] > 0:\n",
    "        return 1   # Bullish\n",
    "    elif row['A1'] > row['A2'] and row['B1'] > row['B2'] and row['C1'] > 0 and row['C2'] > 0:\n",
    "        return -1  # Bearish\n",
    "    else:\n",
    "        return 0   # Consolidation\n",
    "\n",
    "\n",
    "# 2. Directional differences\n",
    "for col1, col2 in [(\"A2\", \"A1\"), (\"B2\", \"B1\"), (\"C2\", \"C1\")]:\n",
    "    df[f\"{col1}_{col2}_diff\"] = df[col1] - df[col2]\n",
    "\n",
    "df[\"client_score\"] = df.apply(client_score, axis=1)\n"
   ]
  },
  {
   "cell_type": "code",
   "execution_count": 24,
   "id": "8b4a8d9e-8883-48a7-ba76-a3ee92050a74",
   "metadata": {},
   "outputs": [],
   "source": [
    "# --- STEP 3: Train/Test Split ---\n",
    "train_df = df.loc[\"2024-11-27\":\"2025-03-16\"].copy()\n",
    "test_df  = df.loc[\"2025-03-17\":\"2025-04-17\"].copy()"
   ]
  },
  {
   "cell_type": "code",
   "execution_count": 25,
   "id": "36d45bc7-f552-424f-90dc-24a69c1aeb61",
   "metadata": {},
   "outputs": [],
   "source": [
    "raw_features = ['A1', 'A2', 'B1', 'B2', 'C1', 'C2']\n",
    "eng_features = [\n",
    "    \"A2_A1_diff\", \"B2_B1_diff\", \"C2_C1_diff\",\n",
    "    \"ret_1\", \"ret_5\", \"volatility\", \"price_norm\",\n",
    "    \"Y2_lag1\", \"expiry_pressure\", \"client_score\"\n",
    "]\n",
    "\n",
    "target = 'Y2'"
   ]
  },
  {
   "cell_type": "code",
   "execution_count": 26,
   "id": "459fc06f-16bd-46cb-86a6-356d05109d46",
   "metadata": {},
   "outputs": [],
   "source": [
    "# --- STEP 2: Scale ---\n",
    "scaler_X_raw = MinMaxScaler()\n",
    "scaler_X_eng = MinMaxScaler()\n",
    "scaler_y = MinMaxScaler()\n",
    "\n",
    "X_train_raw = scaler_X_raw.fit_transform(train_df[raw_features])\n",
    "X_test_raw = scaler_X_raw.transform(test_df[raw_features])\n",
    "\n",
    "X_train_eng = scaler_X_eng.fit_transform(train_df[eng_features])\n",
    "X_test_eng = scaler_X_eng.transform(test_df[eng_features])\n",
    "\n",
    "y_train = scaler_y.fit_transform(train_df[[target]])\n",
    "y_test = scaler_y.transform(test_df[[target]])\n"
   ]
  },
  {
   "cell_type": "code",
   "execution_count": 27,
   "id": "2935e017-4744-4f11-9f8a-033d8f91b136",
   "metadata": {},
   "outputs": [],
   "source": [
    "# --- STEP 3: Sequence Creation ---\n",
    "def create_sequences(X, y, time_steps=30):\n",
    "    xs, ys = [], []\n",
    "    for i in range(len(X) - time_steps):\n",
    "        xs.append(X[i:i+time_steps])\n",
    "        ys.append(y[i+time_steps])\n",
    "    return np.array(xs), np.array(ys)\n",
    "\n",
    "time_steps = 6\n",
    "X_train_seq_raw, y_train_seq = create_sequences(X_train_raw, y_train, time_steps)\n",
    "X_test_seq_raw, y_test_seq = create_sequences(X_test_raw, y_test, time_steps)\n",
    "\n",
    "X_train_seq_eng, _ = create_sequences(X_train_eng, y_train, time_steps)\n",
    "X_test_seq_eng, _ = create_sequences(X_test_eng, y_test, time_steps)\n"
   ]
  },
  {
   "cell_type": "code",
   "execution_count": 28,
   "id": "3b8ad974-b289-4eba-90e2-738fa638504f",
   "metadata": {},
   "outputs": [
    {
     "name": "stdout",
     "output_type": "stream",
     "text": [
      "Model: \"model\"\n",
      "__________________________________________________________________________________________________\n",
      " Layer (type)                   Output Shape         Param #     Connected to                     \n",
      "==================================================================================================\n",
      " input_1 (InputLayer)           [(None, 6, 6)]       0           []                               \n",
      "                                                                                                  \n",
      " input_2 (InputLayer)           [(None, 6, 10)]      0           []                               \n",
      "                                                                                                  \n",
      " lstm (LSTM)                    (None, 6, 32)        4992        ['input_1[0][0]']                \n",
      "                                                                                                  \n",
      " lstm_2 (LSTM)                  (None, 6, 32)        5504        ['input_2[0][0]']                \n",
      "                                                                                                  \n",
      " dropout (Dropout)              (None, 6, 32)        0           ['lstm[0][0]']                   \n",
      "                                                                                                  \n",
      " dropout_1 (Dropout)            (None, 6, 32)        0           ['lstm_2[0][0]']                 \n",
      "                                                                                                  \n",
      " lstm_1 (LSTM)                  (None, 16)           3136        ['dropout[0][0]']                \n",
      "                                                                                                  \n",
      " lstm_3 (LSTM)                  (None, 16)           3136        ['dropout_1[0][0]']              \n",
      "                                                                                                  \n",
      " concatenate (Concatenate)      (None, 32)           0           ['lstm_1[0][0]',                 \n",
      "                                                                  'lstm_3[0][0]']                 \n",
      "                                                                                                  \n",
      " dense (Dense)                  (None, 32)           1056        ['concatenate[0][0]']            \n",
      "                                                                                                  \n",
      " dense_1 (Dense)                (None, 16)           528         ['dense[0][0]']                  \n",
      "                                                                                                  \n",
      " dense_2 (Dense)                (None, 1)            17          ['dense_1[0][0]']                \n",
      "                                                                                                  \n",
      "==================================================================================================\n",
      "Total params: 18,369\n",
      "Trainable params: 18,369\n",
      "Non-trainable params: 0\n",
      "__________________________________________________________________________________________________\n"
     ]
    }
   ],
   "source": [
    "# --- STEP 4: Dual-Input LSTM Model ---\n",
    "from tensorflow.keras.models import Model\n",
    "from tensorflow.keras.layers import Input, LSTM, Dense, Dropout, Concatenate\n",
    "from tensorflow.keras.callbacks import EarlyStopping\n",
    "\n",
    "input_raw = Input(shape=(time_steps, len(raw_features)))\n",
    "input_eng = Input(shape=(time_steps, len(eng_features)))\n",
    "\n",
    "# Raw branch\n",
    "x1 = LSTM(32, return_sequences=True)(input_raw)\n",
    "x1 = Dropout(0.2)(x1)\n",
    "x1 = LSTM(16)(x1)\n",
    "\n",
    "# Engineered branch\n",
    "x2 = LSTM(32, return_sequences=True)(input_eng)\n",
    "x2 = Dropout(0.2)(x2)\n",
    "x2 = LSTM(16)(x2)\n",
    "\n",
    "# Merge branches\n",
    "merged = Concatenate()([x1, x2])\n",
    "x = Dense(32, activation='relu')(merged)\n",
    "x = Dense(16, activation='relu')(x)\n",
    "output = Dense(1)(x)\n",
    "\n",
    "model = Model(inputs=[input_raw, input_eng], outputs=output)\n",
    "model.compile(optimizer='adam', loss='mse')\n",
    "model.summary()\n"
   ]
  },
  {
   "cell_type": "code",
   "execution_count": 29,
   "id": "e2485f87-23f0-4296-a034-4ef43293c3ca",
   "metadata": {},
   "outputs": [
    {
     "name": "stdout",
     "output_type": "stream",
     "text": [
      "X_train_seq_raw shape: (4753, 6, 6)\n",
      "X_train_seq_eng shape: (4753, 6, 10)\n",
      "y_train_seq shape:     (4753, 1)\n"
     ]
    }
   ],
   "source": [
    "# --- VERIFY LSTM INPUT SHAPES ---\n",
    "print(\"X_train_seq_raw shape:\", X_train_seq_raw.shape)\n",
    "print(\"X_train_seq_eng shape:\", X_train_seq_eng.shape)\n",
    "print(\"y_train_seq shape:    \", y_train_seq.shape)\n",
    "\n",
    "assert X_train_seq_raw.shape[1] == 6, \"Expected 30 timesteps\"\n",
    "assert X_train_seq_eng.shape[1] == 6, \"Expected 30 timesteps\"\n",
    "assert X_train_seq_raw.shape[0] == y_train_seq.shape[0], \"Mismatch in number of samples\"\n"
   ]
  },
  {
   "cell_type": "code",
   "execution_count": 30,
   "id": "d9117f03-e294-4656-96a8-edeaa2d1a492",
   "metadata": {},
   "outputs": [
    {
     "name": "stdout",
     "output_type": "stream",
     "text": [
      "Epoch 1/50\n",
      "134/134 [==============================] - 7s 14ms/step - loss: 0.0197 - val_loss: 0.0055\n",
      "Epoch 2/50\n",
      "134/134 [==============================] - 1s 5ms/step - loss: 0.0104 - val_loss: 0.0062\n",
      "Epoch 3/50\n",
      "134/134 [==============================] - 1s 5ms/step - loss: 0.0102 - val_loss: 0.0047\n",
      "Epoch 4/50\n",
      "134/134 [==============================] - 1s 5ms/step - loss: 0.0100 - val_loss: 0.0048\n",
      "Epoch 5/50\n",
      "134/134 [==============================] - 1s 5ms/step - loss: 0.0098 - val_loss: 0.0051\n",
      "Epoch 6/50\n",
      "134/134 [==============================] - 1s 5ms/step - loss: 0.0097 - val_loss: 0.0047\n",
      "Epoch 7/50\n",
      "134/134 [==============================] - 1s 5ms/step - loss: 0.0092 - val_loss: 0.0042\n",
      "Epoch 8/50\n",
      "134/134 [==============================] - 1s 5ms/step - loss: 0.0088 - val_loss: 0.0040\n",
      "Epoch 9/50\n",
      "134/134 [==============================] - 1s 5ms/step - loss: 0.0086 - val_loss: 0.0036\n",
      "Epoch 10/50\n",
      "134/134 [==============================] - 1s 5ms/step - loss: 0.0076 - val_loss: 0.0033\n",
      "Epoch 11/50\n",
      "134/134 [==============================] - 1s 5ms/step - loss: 0.0072 - val_loss: 0.0031\n",
      "Epoch 12/50\n",
      "134/134 [==============================] - 1s 5ms/step - loss: 0.0066 - val_loss: 0.0034\n",
      "Epoch 13/50\n",
      "134/134 [==============================] - 1s 5ms/step - loss: 0.0065 - val_loss: 0.0027\n",
      "Epoch 14/50\n",
      "134/134 [==============================] - 1s 6ms/step - loss: 0.0063 - val_loss: 0.0026\n",
      "Epoch 15/50\n",
      "134/134 [==============================] - 1s 5ms/step - loss: 0.0061 - val_loss: 0.0027\n",
      "Epoch 16/50\n",
      "134/134 [==============================] - 1s 5ms/step - loss: 0.0059 - val_loss: 0.0026\n",
      "Epoch 17/50\n",
      "134/134 [==============================] - 1s 5ms/step - loss: 0.0060 - val_loss: 0.0028\n",
      "Epoch 18/50\n",
      "134/134 [==============================] - 1s 5ms/step - loss: 0.0059 - val_loss: 0.0025\n",
      "Epoch 19/50\n",
      "134/134 [==============================] - 1s 5ms/step - loss: 0.0057 - val_loss: 0.0028\n",
      "Epoch 20/50\n",
      "134/134 [==============================] - 1s 5ms/step - loss: 0.0057 - val_loss: 0.0029\n",
      "Epoch 21/50\n",
      "134/134 [==============================] - 1s 5ms/step - loss: 0.0057 - val_loss: 0.0025\n",
      "Epoch 22/50\n",
      "134/134 [==============================] - 1s 5ms/step - loss: 0.0055 - val_loss: 0.0024\n",
      "Epoch 23/50\n",
      "134/134 [==============================] - 1s 5ms/step - loss: 0.0054 - val_loss: 0.0028\n",
      "Epoch 24/50\n",
      "134/134 [==============================] - 1s 5ms/step - loss: 0.0055 - val_loss: 0.0028\n",
      "Epoch 25/50\n",
      "134/134 [==============================] - 1s 5ms/step - loss: 0.0054 - val_loss: 0.0029\n",
      "Epoch 26/50\n",
      "134/134 [==============================] - 1s 5ms/step - loss: 0.0054 - val_loss: 0.0025\n",
      "Epoch 27/50\n",
      "134/134 [==============================] - 1s 6ms/step - loss: 0.0053 - val_loss: 0.0025\n"
     ]
    }
   ],
   "source": [
    "# --- STEP 5: Train ---\n",
    "es = EarlyStopping(patience=5, restore_best_weights=True)\n",
    "history = model.fit(\n",
    "    [X_train_seq_raw, X_train_seq_eng], y_train_seq,\n",
    "    epochs=50, batch_size=32,\n",
    "    validation_split=0.1, callbacks=[es], verbose=1\n",
    ")\n"
   ]
  },
  {
   "cell_type": "code",
   "execution_count": 31,
   "id": "725aee49-26e9-4572-9c93-5725780f4e6e",
   "metadata": {},
   "outputs": [
    {
     "name": "stdout",
     "output_type": "stream",
     "text": [
      "✅ Pickles saved!\n"
     ]
    }
   ],
   "source": [
    "# ─── CELL N+1: Serialize model, scalers, history DataFrame ──────────────\n",
    "import pickle\n",
    "\n",
    "# 1) Dual‑LSTM\n",
    "with open(\"dual_lstm_model.pkl\", \"wb\") as f:\n",
    "    pickle.dump(model, f)\n",
    "\n",
    "# 2) Scalers\n",
    "with open(\"scaler_X_raw.pkl\", \"wb\") as f:\n",
    "    pickle.dump(scaler_X_raw, f)\n",
    "with open(\"scaler_X_eng.pkl\", \"wb\") as f:\n",
    "    pickle.dump(scaler_X_eng, f)\n",
    "with open(\"scaler_y.pkl\", \"wb\") as f:\n",
    "    pickle.dump(scaler_y, f)\n",
    "\n",
    "# 3) Feature‑history (needed for on‑demand sequence building)\n",
    "df_feat = df[ raw_features + eng_features ].copy()\n",
    "with open(\"df_feature_history.pkl\", \"wb\") as f:\n",
    "    pickle.dump(df_feat, f)\n",
    "\n",
    "print(\"✅ Pickles saved!\")\n"
   ]
  },
  {
   "cell_type": "code",
   "execution_count": null,
   "id": "1518f4fb-3241-4c73-9a37-60edbcb1c797",
   "metadata": {},
   "outputs": [],
   "source": []
  },
  {
   "cell_type": "code",
   "execution_count": 32,
   "id": "febeb18f-c74b-4b97-8e05-456ed4b62f73",
   "metadata": {},
   "outputs": [],
   "source": [
    "def preprocess_user_input(df, raw_scaler=None, eng_scaler=None, time_steps=None):\n",
    "    df = df.copy()\n",
    "\n",
    "    # Deltas\n",
    "    df[\"A2_A1_diff\"] = df[\"A2\"] - df[\"A1\"]\n",
    "    df[\"B2_B1_diff\"] = df[\"B2\"] - df[\"B1\"]\n",
    "    df[\"C2_C1_diff\"] = df[\"C2\"] - df[\"C1\"]\n",
    "\n",
    "    # Safe returns & volatility\n",
    "    df[\"ret_1\"] = df[\"PRICE\"].pct_change().fillna(0) if len(df) > 1 else 0\n",
    "    df[\"ret_5\"] = df[\"PRICE\"].pct_change(5).fillna(0) if len(df) > 5 else 0\n",
    "    df[\"volatility\"] = df[\"ret_1\"].rolling(window=5).std().fillna(0) if len(df) > 5 else 0\n",
    "\n",
    "    # Expiry logic\n",
    "    df[\"Expiry_date\"] = pd.to_datetime(df[\"Expiry_date\"])\n",
    "    df[\"Date\"] = pd.to_datetime(df[\"Date\"])\n",
    "    df[\"days_to_expiry\"] = (df[\"Expiry_date\"].dt.normalize() - df[\"Date\"].dt.normalize()).dt.days\n",
    "    df[\"expiry_pressure\"] = 1 / (1 + df[\"days_to_expiry\"].clip(lower=0))\n",
    "\n",
    "    df[\"price_norm\"] = df[\"PRICE\"].rolling(100).mean().bfill() if len(df) >= 100 else df[\"PRICE\"].mean()\n",
    "\n",
    "    # Add dummy Y2_lag1 if not present\n",
    "    df[\"Y2_lag1\"] = 0\n",
    "\n",
    "    # Client score logic\n",
    "    def client_score(row):\n",
    "        if row['A2'] > row['A1'] and row['B2'] > row['B1'] and row['C1'] > 0 and row['C2'] > 0:\n",
    "            return 1\n",
    "        elif row['A1'] > row['A2'] and row['B1'] > row['B2'] and row['C1'] > 0 and row['C2'] > 0:\n",
    "            return -1\n",
    "        else:\n",
    "            return 0\n",
    "\n",
    "    df[\"client_score\"] = df.apply(client_score, axis=1)\n",
    "\n",
    "    return df\n"
   ]
  },
  {
   "cell_type": "code",
   "execution_count": null,
   "id": "bc1b0075-204c-4b26-8f4b-2e2add30fd4d",
   "metadata": {},
   "outputs": [],
   "source": [
    "# --- STEP 6: Predict ---\n",
    "y_pred = model.predict([X_test_seq_raw, X_test_seq_eng])\n",
    "y_pred_inv = scaler_y.inverse_transform(y_pred)\n",
    "y_test_inv = scaler_y.inverse_transform(y_test_seq)"
   ]
  },
  {
   "cell_type": "code",
   "execution_count": 42,
   "id": "c321c4ec-d238-4c28-b4db-46e5550bab22",
   "metadata": {},
   "outputs": [
    {
     "name": "stdout",
     "output_type": "stream",
     "text": [
      "✅ Merged Model Evaluation\n",
      "RMSE: 0.000001 | MAE: 0.000561 | R²: 0.3476\n"
     ]
    }
   ],
   "source": [
    "# --- STEP 7: Evaluation ---\n",
    "from sklearn.metrics import mean_squared_error, mean_absolute_error, r2_score\n",
    "\n",
    "rmse = mean_squared_error(y_test_inv, y_pred_inv)\n",
    "mae = mean_absolute_error(y_test_inv, y_pred_inv)\n",
    "r2 = r2_score(y_test_inv, y_pred_inv)\n",
    "\n",
    "print(f\"✅ Merged Model Evaluation\\nRMSE: {rmse:.6f} | MAE: {mae:.6f} | R²: {r2:.4f}\")"
   ]
  },
  {
   "cell_type": "code",
   "execution_count": 43,
   "id": "11e49063-0852-432f-9485-f8544aa79b61",
   "metadata": {},
   "outputs": [
    {
     "data": {
      "image/png": "[encoded data removed]",
      "text/plain": [
       "<Figure size 1400x600 with 1 Axes>"
      ]
     },
     "metadata": {},
     "output_type": "display_data"
    }
   ],
   "source": [
    "# --- STEP 8: Plot ---\n",
    "import matplotlib.pyplot as plt\n",
    "\n",
    "plt.figure(figsize=(14,6))\n",
    "plt.plot(y_test_inv, label=\"Actual Y2\", linewidth=2)\n",
    "plt.plot(y_pred_inv, label=\"Predicted Y2\")\n",
    "plt.title(\"Dual-Input LSTM • 30-Min Price Change Prediction\")\n",
    "plt.xlabel(\"Time Steps\")\n",
    "plt.ylabel(\"% Change\")\n",
    "plt.legend()\n",
    "plt.grid(True)\n",
    "plt.tight_layout()\n",
    "plt.show()"
   ]
  },
  {
   "cell_type": "code",
   "execution_count": null,
   "id": "d8c017b3-c728-4793-8763-73ff69b8fdf2",
   "metadata": {},
   "outputs": [],
   "source": []
  },
  {
   "cell_type": "code",
   "execution_count": null,
   "id": "94876fe3-ffdd-4995-83d8-44d4aaa2e7fc",
   "metadata": {},
   "outputs": [],
   "source": []
  },
  {
   "cell_type": "code",
   "execution_count": 44,
   "id": "e7e3f793-33ce-43ae-8071-a19879393f19",
   "metadata": {},
   "outputs": [
    {
     "name": "stdout",
     "output_type": "stream",
     "text": [
      "Std‑based thresholds ⇒ Bullish > 0.102%   Bearish < -0.105%\n"
     ]
    }
   ],
   "source": [
    "# ── compute dynamic Bull/Bear cutoffs from the train‑set pct changes ──\n",
    "import numpy as np\n",
    "\n",
    "pct_train = scaler_y.inverse_transform(y_train_seq).flatten() * 100\n",
    "# ── AFTER you build pct_train (in % units) ──\n",
    "mu, sigma = pct_train.mean(), pct_train.std()\n",
    "k = 1.0   # you can try 0.5, 1.0, 1.5…\n",
    "up_th   = mu + k*sigma\n",
    "down_th = mu - k*sigma\n",
    "\n",
    "print(f\"Std‑based thresholds ⇒ Bullish > {up_th:.3f}%   Bearish < {down_th:.3f}%\")\n",
    "\n",
    "\n",
    "\n"
   ]
  },
  {
   "cell_type": "code",
   "execution_count": 48,
   "id": "3341e275-477c-46c2-868d-74df2b0717b3",
   "metadata": {},
   "outputs": [
    {
     "name": "stdout",
     "output_type": "stream",
     "text": [
      "1/1 [==============================] - 0s 31ms/step\n",
      "🔮 Trend: Consolidation   |   Expected 30‑min move: -0.100%\n"
     ]
    },
    {
     "name": "stderr",
     "output_type": "stream",
     "text": [
      "C:\\Python311\\Lib\\site-packages\\sklearn\\utils\\validation.py:2739: UserWarning: X does not have valid feature names, but MinMaxScaler was fitted with feature names\n",
      "  warnings.warn(\n",
      "C:\\Python311\\Lib\\site-packages\\sklearn\\utils\\validation.py:2739: UserWarning: X does not have valid feature names, but MinMaxScaler was fitted with feature names\n",
      "  warnings.warn(\n"
     ]
    }
   ],
   "source": [
    "# ───────────────  ON‑DEMAND 30‑MIN‑AHEAD PREDICTION  ────────────────\n",
    "import numpy as np, pandas as pd\n",
    "\n",
    "# 1) your dynamic thresholds from training\n",
    "#    (you should have printed these just after training)\n",
    "#    e.g. up_th  = np.percentile(pct_train, 75)\n",
    "#         down_th= np.percentile(pct_train, 25)\n",
    "\n",
    "def pct_to_trend(pct, up_thr=up_th, down_thr=down_th):\n",
    "    if pct >  up_thr:    return \"Bullish\"\n",
    "    if pct <  down_thr:  return \"Bearish\"\n",
    "    return \"Consolidation\"\n",
    "\n",
    "# 2) rebuild exactly the columns you engineered during training\n",
    "def make_one_row(user_dict):\n",
    "    row = pd.Series(user_dict).copy()\n",
    "    # diffs\n",
    "    row[\"A2_A1_diff\"] = row[\"A2\"] - row[\"A1\"]\n",
    "    row[\"B2_B1_diff\"] = row[\"B2\"] - row[\"B1\"]\n",
    "    row[\"C2_C1_diff\"] = row[\"C2\"] - row[\"C1\"]\n",
    "    # expiry pressure\n",
    "    days = (pd.to_datetime(row[\"Expiry_date\"]).normalize()\n",
    "          - pd.to_datetime(row[\"Date\"]).normalize()).days\n",
    "    row[\"expiry_pressure\"] = 1 / (1 + max(days,0))\n",
    "    # placeholders\n",
    "    for c in [\"ret_1\",\"ret_5\",\"volatility\",\"price_norm\",\"Y2_lag1\",\"client_score\"]:\n",
    "        row[c] = 0.0\n",
    "    return row\n",
    "\n",
    "# 3) declare exactly the same feature‑lists you used at train time\n",
    "raw_features = [\"A1\",\"A2\",\"B1\",\"B2\",\"C1\",\"C2\"]\n",
    "eng_features = [\n",
    "    \"A2_A1_diff\",\"B2_B1_diff\",\"C2_C1_diff\",\n",
    "    \"ret_1\",\"ret_5\",\"volatility\",\n",
    "    \"price_norm\",\"Y2_lag1\",\"expiry_pressure\",\"client_score\"\n",
    "]\n",
    "\n",
    "def predict_30min_ahead(user_dict):\n",
    "    # rebuild row\n",
    "    row = make_one_row(user_dict)\n",
    "\n",
    "    # RAW branch\n",
    "    raw_vec = row[raw_features].values.reshape(1,-1)\n",
    "    seq_raw = np.repeat(\n",
    "        scaler_X_raw.transform(raw_vec)[np.newaxis,:,:],\n",
    "        time_steps, axis=1\n",
    "    )\n",
    "\n",
    "    # ENG branch (ONLY eng_features!)\n",
    "    eng_vec = row[eng_features].values.reshape(1,-1)\n",
    "    seq_eng = np.repeat(\n",
    "        scaler_X_eng.transform(eng_vec)[np.newaxis,:,:],\n",
    "        time_steps, axis=1\n",
    "    )\n",
    "\n",
    "    # forward pass\n",
    "    pct_scaled = model.predict([seq_raw, seq_eng])[0,0]\n",
    "    pct_change = scaler_y.inverse_transform([[pct_scaled]])[0,0] * 100\n",
    "\n",
    "    # map to direction\n",
    "    trend = pct_to_trend(pct_change)\n",
    "    return trend, round(pct_change,3)\n",
    "\n",
    "# ─── Test it!\n",
    "if __name__==\"__main__\":\n",
    "    demo = {\n",
    "    \"Expiry_date\": \"2025-01-30\",\n",
    "    \"Date\"       : \"2025-01-21\",\n",
    "    \"Time\"       : \"11:20:00\",\n",
    "    \"PRICE\"      : 48772,\n",
    "    \"A1\"         : 1148093863,\n",
    "    \"B1\"         : 8018657988,\n",
    "    \"C1\"         : 1531825535,\n",
    "    \"A2\"         : 189375395,\n",
    "    \"B2\"         : 31420822010,\n",
    "    \"C2\"         : 38740463612\n",
    "}\n",
    "\n",
    "    t,p = predict_30min_ahead(demo)\n",
    "    print(f\"🔮 Trend: {t}   |   Expected 30‑min move: {p:+.3f}%\")\n"
   ]
  },
  {
   "cell_type": "code",
   "execution_count": null,
   "id": "a15a99b2-22dd-4ad2-ae66-72d31f217ebd",
   "metadata": {},
   "outputs": [],
   "source": []
  },
  {
   "cell_type": "code",
   "execution_count": null,
   "id": "c9f961d3-9b22-4e30-ad89-67177a15184f",
   "metadata": {},
   "outputs": [],
   "source": []
  },
  {
   "cell_type": "code",
   "execution_count": null,
   "id": "544727b5-112e-4ba8-a871-5633ba793c8b",
   "metadata": {},
   "outputs": [],
   "source": []
  },
  {
   "cell_type": "code",
   "execution_count": null,
   "id": "0f3a31eb-3760-4154-b86b-1a70ae313e2f",
   "metadata": {},
   "outputs": [],
   "source": []
  },
  {
   "cell_type": "code",
   "execution_count": 46,
   "id": "88bd09e3-713f-4fa4-8566-ba32f2dc391a",
   "metadata": {},
   "outputs": [
    {
     "name": "stdout",
     "output_type": "stream",
     "text": [
      "🔧 Thresholds ⇒ Bullish > 0.102%   Bearish < -0.105%\n",
      "1/1 [==============================] - 0s 22ms/step\n",
      "🔮 Trend: Consolidation   |   Expected 30‑min move: -0.005%\n"
     ]
    }
   ],
   "source": [
    "# ─────────────────────────────────────────────────────────────────────────────────\n",
    "#  📍 FINAL CELL: On‑demand 30‑min Predictor (no duplicate-index slicing)\n",
    "# ─────────────────────────────────────────────────────────────────────────────────\n",
    "\n",
    "import numpy as np, pandas as pd\n",
    "\n",
    "# 1) Re‑compute your std‑based thresholds (you already had these)\n",
    "pct_train = scaler_y.inverse_transform(y_train_seq).flatten() * 100\n",
    "mu, sigma = pct_train.mean(), pct_train.std()\n",
    "k = 1.0\n",
    "up_th   = mu + k*sigma\n",
    "down_th = mu - k*sigma\n",
    "print(f\"🔧 Thresholds ⇒ Bullish > {up_th:.3f}%   Bearish < {down_th:.3f}%\")\n",
    "\n",
    "def pct_to_trend(pct):\n",
    "    if pct >  up_th:    return \"Bullish\"\n",
    "    if pct <  down_th:  return \"Bearish\"\n",
    "    return \"Consolidation\"\n",
    "\n",
    "# 2) Same per‑row engineering you used in training\n",
    "def make_one_row(user_dict):\n",
    "    r = pd.Series(user_dict).copy()\n",
    "    r[\"A2_A1_diff\"] = r[\"A2\"] - r[\"A1\"]\n",
    "    r[\"B2_B1_diff\"] = r[\"B2\"] - r[\"B1\"]\n",
    "    r[\"C2_C1_diff\"] = r[\"C2\"] - r[\"C1\"]\n",
    "    days = (pd.to_datetime(r[\"Expiry_date\"]).normalize()\n",
    "          - pd.to_datetime(r[\"Date\"]).normalize()).days\n",
    "    r[\"expiry_pressure\"] = 1.0/(1+max(days,0))\n",
    "    for c in [\"ret_1\",\"ret_5\",\"volatility\",\"price_norm\",\"Y2_lag1\",\"client_score\"]:\n",
    "        r[c] = 0.0\n",
    "    return r\n",
    "\n",
    "# 3) On‑demand predictor using the last `time_steps` real bars\n",
    "def predict_30min_ahead(user_dict, df_feat, time_steps=6):\n",
    "    # build & timestamp new row\n",
    "    row = make_one_row(user_dict)\n",
    "    ts  = pd.to_datetime(f\"{user_dict['Date']} {user_dict['Time']}\")\n",
    "    row.name = ts\n",
    "\n",
    "    # ensure sorted history\n",
    "    hist = df_feat.sort_index()\n",
    "\n",
    "    # 3a) take the last (time_steps-1) rows before ts\n",
    "    prev = hist[hist.index < ts].iloc[-(time_steps-1):]\n",
    "    if len(prev) < time_steps-1:\n",
    "        raise ValueError(f\"Need {time_steps-1} history rows, got {len(prev)}\")\n",
    "\n",
    "    # 3b) append the new row\n",
    "    seq = pd.concat([prev, row.to_frame().T])\n",
    "\n",
    "    # 3c) split branches & scale\n",
    "    Xr = scaler_X_raw.transform(seq[raw_features]).reshape(1, time_steps, len(raw_features))\n",
    "    Xe = scaler_X_eng.transform(seq[eng_features]).reshape(1, time_steps, len(eng_features))\n",
    "\n",
    "    # 3d) LSTM forward & inverse‐scale\n",
    "    pct_s = model.predict([Xr, Xe])[0,0]\n",
    "    pct   = scaler_y.inverse_transform([[pct_s]])[0,0] * 100\n",
    "    return pct_to_trend(pct), round(pct,3)\n",
    "\n",
    "# ─────────────────────────────────────────────────────────────────────────────────\n",
    "# 4) Demo test\n",
    "demo = {\n",
    "    \"Expiry_date\": \"2025-01-30\",\n",
    "    \"Date\"       : \"2025-01-21\",\n",
    "    \"Time\"       : \"11:20:00\",\n",
    "    \"PRICE\"      : 48772,\n",
    "    \"A1\"         : 1148093863,\n",
    "    \"B1\"         : 8018657988,\n",
    "    \"C1\"         : 1531825535,\n",
    "    \"A2\"         : 189375395,\n",
    "    \"B2\"         : 31420822010,\n",
    "    \"C2\"         : 38740463612\n",
    "}\n",
    "\n",
    "trend, pct = predict_30min_ahead(demo, df_feat, time_steps=6)\n",
    "print(f\"🔮 Trend: {trend}   |   Expected 30‑min move: {pct:+.3f}%\")\n"
   ]
  },
  {
   "cell_type": "code",
   "execution_count": 50,
   "id": "39f157a2-1a0a-41ed-a1b4-cb41c5e1bb36",
   "metadata": {},
   "outputs": [
    {
     "name": "stdout",
     "output_type": "stream",
     "text": [
      "✅ All artifacts saved to disk.\n"
     ]
    }
   ],
   "source": [
    "import pickle\n",
    "\n",
    "# 1) trained dual‑LSTM\n",
    "with open(\"dual_lstm_model.pkl\", \"wb\") as f:\n",
    "    pickle.dump(model, f)\n",
    "\n",
    "# 2) scalers\n",
    "with open(\"scaler_X_raw.pkl\", \"wb\") as f:\n",
    "    pickle.dump(scaler_X_raw, f)\n",
    "with open(\"scaler_X_eng.pkl\", \"wb\") as f:\n",
    "    pickle.dump(scaler_X_eng, f)\n",
    "with open(\"scaler_y.pkl\", \"wb\") as f:\n",
    "    pickle.dump(scaler_y, f)\n",
    "\n",
    "# 3) your feature‑history DataFrame (needed for on‑the‑fly sequences)\n",
    "df_feat = df[ raw_features + eng_features ].copy()\n",
    "with open(\"df_feature_history.pkl\", \"wb\") as f:\n",
    "    pickle.dump(df_feat, f)\n",
    "\n",
    "# 4) pre‑compute your thresholds one time\n",
    "import numpy as np\n",
    "pct_train = scaler_y.inverse_transform(y_train_seq).flatten() * 100\n",
    "up_th   = np.percentile(pct_train, 90)\n",
    "down_th = np.percentile(pct_train, 10)\n",
    "with open(\"trend_thresholds.pkl\", \"wb\") as f:\n",
    "    pickle.dump((up_th, down_th), f)\n",
    "\n",
    "print(\"✅ All artifacts saved to disk.\")\n"
   ]
  },
  {
   "cell_type": "code",
   "execution_count": null,
   "id": "09923b25-404c-4c77-a0e4-d3a0e06b254a",
   "metadata": {},
   "outputs": [],
   "source": []
  },
  {
   "cell_type": "code",
   "execution_count": null,
   "id": "4e6d52c5-6db1-4d5c-a8b0-383cf63d4f5f",
   "metadata": {},
   "outputs": [],
   "source": []
  },
  {
   "cell_type": "code",
   "execution_count": null,
   "id": "5107c8d6-5a4c-4e65-a5bd-3c067871d56a",
   "metadata": {},
   "outputs": [],
   "source": []
  },
  {
   "cell_type": "code",
   "execution_count": null,
   "id": "a49f5d42-912b-43ba-807f-b2375de4a9e9",
   "metadata": {},
   "outputs": [],
   "source": []
  },
  {
   "cell_type": "code",
   "execution_count": null,
   "id": "f46210cb-ef1f-48d4-ac44-05bc69f609c3",
   "metadata": {},
   "outputs": [],
   "source": []
  },
  {
   "cell_type": "code",
   "execution_count": null,
   "id": "07f94a6d-8b6e-4031-98f4-80b23ede6d31",
   "metadata": {},
   "outputs": [],
   "source": []
  },
  {
   "cell_type": "code",
   "execution_count": null,
   "id": "14bbb4e9-998c-4f74-a3c0-6f223be3c0b7",
   "metadata": {},
   "outputs": [],
   "source": []
  },
  {
   "cell_type": "code",
   "execution_count": null,
   "id": "ebc403cf-e1ad-46a6-8317-63ceb6b69f5d",
   "metadata": {},
   "outputs": [],
   "source": []
  },
  {
   "cell_type": "code",
   "execution_count": null,
   "id": "c619d768-42de-4789-82ed-3dfd6ec49f7c",
   "metadata": {},
   "outputs": [],
   "source": []
  },
  {
   "cell_type": "code",
   "execution_count": null,
   "id": "349b1fe2-00d9-4090-978b-31e1fcc076b7",
   "metadata": {},
   "outputs": [],
   "source": []
  },
  {
   "cell_type": "code",
   "execution_count": null,
   "id": "8f5c723c-daf4-4de5-a140-77785795a684",
   "metadata": {},
   "outputs": [],
   "source": []
  },
  {
   "cell_type": "code",
   "execution_count": null,
   "id": "6ea132f8-2cd1-4782-a1dd-807ec51f201c",
   "metadata": {},
   "outputs": [],
   "source": []
  }
 ],
 "metadata": {
  "kernelspec": {
   "display_name": "Python 3 (ipykernel)",
   "language": "python",
   "name": "python3"
  },
  "language_info": {
   "codemirror_mode": {
    "name": "ipython",
    "version": 3
   },
   "file_extension": ".py",
   "mimetype": "text/x-python",
   "name": "python",
   "nbconvert_exporter": "python",
   "pygments_lexer": "ipython3",
   "version": "3.11.6"
  }
 },
 "nbformat": 4,
 "nbformat_minor": 5
}
